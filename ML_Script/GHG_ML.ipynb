{
 "cells": [
  {
   "cell_type": "code",
   "execution_count": 16,
   "metadata": {},
   "outputs": [],
   "source": [
    "# Importing the libraries\n",
    "import os\n",
    "import numpy as np\n",
    "import matplotlib.pyplot as plt\n",
    "import pandas as pd\n",
    "import pickle\n",
    "import requests\n",
    "import json"
   ]
  },
  {
   "cell_type": "code",
   "execution_count": 17,
   "metadata": {},
   "outputs": [
    {
     "data": {
      "text/html": [
       "<div>\n",
       "<style scoped>\n",
       "    .dataframe tbody tr th:only-of-type {\n",
       "        vertical-align: middle;\n",
       "    }\n",
       "\n",
       "    .dataframe tbody tr th {\n",
       "        vertical-align: top;\n",
       "    }\n",
       "\n",
       "    .dataframe thead th {\n",
       "        text-align: right;\n",
       "    }\n",
       "</style>\n",
       "<table border=\"1\" class=\"dataframe\">\n",
       "  <thead>\n",
       "    <tr style=\"text-align: right;\">\n",
       "      <th></th>\n",
       "      <th>Country</th>\n",
       "      <th>Year</th>\n",
       "      <th>Total GHG Emissions Including Land-Use Change and Forestry (MtCO_e_)</th>\n",
       "      <th>GDP-USD (Million US$ (2005))</th>\n",
       "      <th>Population (People)</th>\n",
       "      <th>GHG per Capita</th>\n",
       "      <th>GDP per Capita</th>\n",
       "    </tr>\n",
       "  </thead>\n",
       "  <tbody>\n",
       "    <tr>\n",
       "      <th>4318</th>\n",
       "      <td>Yemen</td>\n",
       "      <td>2012.0</td>\n",
       "      <td>29.84</td>\n",
       "      <td>17392</td>\n",
       "      <td>23852409.0</td>\n",
       "      <td>1.25</td>\n",
       "      <td>729.15</td>\n",
       "    </tr>\n",
       "    <tr>\n",
       "      <th>4319</th>\n",
       "      <td>Zambia</td>\n",
       "      <td>2012.0</td>\n",
       "      <td>119.81</td>\n",
       "      <td>14354</td>\n",
       "      <td>14075099.0</td>\n",
       "      <td>8.51</td>\n",
       "      <td>1019.82</td>\n",
       "    </tr>\n",
       "    <tr>\n",
       "      <th>4320</th>\n",
       "      <td>Zimbabwe</td>\n",
       "      <td>2012.0</td>\n",
       "      <td>62.93</td>\n",
       "      <td>6437</td>\n",
       "      <td>13724317.0</td>\n",
       "      <td>4.59</td>\n",
       "      <td>469.02</td>\n",
       "    </tr>\n",
       "    <tr>\n",
       "      <th>4321</th>\n",
       "      <td>NaN</td>\n",
       "      <td>NaN</td>\n",
       "      <td>NaN</td>\n",
       "      <td>NaN</td>\n",
       "      <td>NaN</td>\n",
       "      <td>NaN</td>\n",
       "      <td>NaN</td>\n",
       "    </tr>\n",
       "    <tr>\n",
       "      <th>4322</th>\n",
       "      <td>NaN</td>\n",
       "      <td>NaN</td>\n",
       "      <td>NaN</td>\n",
       "      <td>NaN</td>\n",
       "      <td>NaN</td>\n",
       "      <td>NaN</td>\n",
       "      <td>NaN</td>\n",
       "    </tr>\n",
       "  </tbody>\n",
       "</table>\n",
       "</div>"
      ],
      "text/plain": [
       "       Country    Year  \\\n",
       "4318     Yemen  2012.0   \n",
       "4319    Zambia  2012.0   \n",
       "4320  Zimbabwe  2012.0   \n",
       "4321       NaN     NaN   \n",
       "4322       NaN     NaN   \n",
       "\n",
       "      Total GHG Emissions Including Land-Use Change and Forestry (MtCO_e_)  \\\n",
       "4318                                              29.84                      \n",
       "4319                                             119.81                      \n",
       "4320                                              62.93                      \n",
       "4321                                                NaN                      \n",
       "4322                                                NaN                      \n",
       "\n",
       "     GDP-USD (Million US$ (2005))  Population (People) GHG per Capita  \\\n",
       "4318                        17392           23852409.0           1.25   \n",
       "4319                        14354           14075099.0           8.51   \n",
       "4320                         6437           13724317.0           4.59   \n",
       "4321                          NaN                  NaN            NaN   \n",
       "4322                          NaN                  NaN            NaN   \n",
       "\n",
       "     GDP per Capita  \n",
       "4318         729.15  \n",
       "4319        1019.82  \n",
       "4320         469.02  \n",
       "4321            NaN  \n",
       "4322            NaN  "
      ]
     },
     "execution_count": 17,
     "metadata": {},
     "output_type": "execute_result"
    }
   ],
   "source": [
    "# CSV Path\n",
    "csv_path = os.path.join(\"..\",\"Data\", \"Cleaned\", \"GHGvsGDP.csv\")\n",
    "\n",
    "# Reading CSV as DF\n",
    "ghg_gdp_df = pd.read_csv(csv_path)\n",
    "ghg_gdp_df.tail(5)"
   ]
  },
  {
   "cell_type": "code",
   "execution_count": 30,
   "metadata": {},
   "outputs": [],
   "source": [
    "# Dropping NaN\n",
    "cleaned_df = ghg_gdp_df.dropna()\n",
    "\n",
    "# Dropping Aggragate World Data\n",
    "cleaned_df = cleaned_df[(cleaned_df['Country']!=\"World\")]\n",
    "cleaned_df = cleaned_df[(cleaned_df['Country']!=\"European Union\")]"
   ]
  },
  {
   "cell_type": "code",
   "execution_count": 32,
   "metadata": {},
   "outputs": [],
   "source": [
    "# Saving 2012 Data for Mapping\n",
    "map_df =  cleaned_df[cleaned_df['Year'] == 2012]\n",
    "\n",
    "map_csv_path = os.path.join(\"..\", \"Data\", \"Cleaned\", \"Map_Data.csv\")\n",
    "map_df.to_csv(map_csv_path) "
   ]
  },
  {
   "cell_type": "code",
   "execution_count": 19,
   "metadata": {},
   "outputs": [
    {
     "data": {
      "text/html": [
       "<div>\n",
       "<style scoped>\n",
       "    .dataframe tbody tr th:only-of-type {\n",
       "        vertical-align: middle;\n",
       "    }\n",
       "\n",
       "    .dataframe tbody tr th {\n",
       "        vertical-align: top;\n",
       "    }\n",
       "\n",
       "    .dataframe thead th {\n",
       "        text-align: right;\n",
       "    }\n",
       "</style>\n",
       "<table border=\"1\" class=\"dataframe\">\n",
       "  <thead>\n",
       "    <tr style=\"text-align: right;\">\n",
       "      <th></th>\n",
       "      <th>GDP per Capita</th>\n",
       "      <th>GHG per Capita</th>\n",
       "    </tr>\n",
       "  </thead>\n",
       "  <tbody>\n",
       "    <tr>\n",
       "      <th>4315</th>\n",
       "      <td>6412.03</td>\n",
       "      <td>13.24</td>\n",
       "    </tr>\n",
       "    <tr>\n",
       "      <th>4316</th>\n",
       "      <td>986.01</td>\n",
       "      <td>2.83</td>\n",
       "    </tr>\n",
       "    <tr>\n",
       "      <th>4318</th>\n",
       "      <td>729.15</td>\n",
       "      <td>1.25</td>\n",
       "    </tr>\n",
       "    <tr>\n",
       "      <th>4319</th>\n",
       "      <td>1019.82</td>\n",
       "      <td>8.51</td>\n",
       "    </tr>\n",
       "    <tr>\n",
       "      <th>4320</th>\n",
       "      <td>469.02</td>\n",
       "      <td>4.59</td>\n",
       "    </tr>\n",
       "  </tbody>\n",
       "</table>\n",
       "</div>"
      ],
      "text/plain": [
       "     GDP per Capita GHG per Capita\n",
       "4315        6412.03          13.24\n",
       "4316         986.01           2.83\n",
       "4318         729.15           1.25\n",
       "4319        1019.82           8.51\n",
       "4320         469.02           4.59"
      ]
     },
     "execution_count": 19,
     "metadata": {},
     "output_type": "execute_result"
    }
   ],
   "source": [
    "# Data for Simple ML\n",
    "simple_ml_df = cleaned_df[[\"GDP per Capita\", \"GHG per Capita\"]].copy()\n",
    "\n",
    "#X and Y values for Linear Regression Model\n",
    "X = simple_ml_df.iloc[:, :-1].values\n",
    "y = simple_ml_df.iloc[:, 1].values\n",
    "\n",
    "simple_ml_df.tail(5)"
   ]
  },
  {
   "cell_type": "code",
   "execution_count": 20,
   "metadata": {},
   "outputs": [],
   "source": [
    "# Imports from SciKit Learn\n",
    "from sklearn.model_selection import train_test_split\n",
    "from sklearn.linear_model import LinearRegression"
   ]
  },
  {
   "cell_type": "code",
   "execution_count": 21,
   "metadata": {},
   "outputs": [],
   "source": [
    "# Splitting the dataset into the Training set and Test set\n",
    "X_train, X_test, y_train, y_test = train_test_split(X, y, test_size = 1/2, random_state = 0)"
   ]
  },
  {
   "cell_type": "code",
   "execution_count": 22,
   "metadata": {},
   "outputs": [
    {
     "data": {
      "text/plain": [
       "LinearRegression(copy_X=True, fit_intercept=True, n_jobs=None, normalize=False)"
      ]
     },
     "execution_count": 22,
     "metadata": {},
     "output_type": "execute_result"
    }
   ],
   "source": [
    "# Fitting Simple Linear Regression to the Training set\n",
    "regressor = LinearRegression()\n",
    "regressor.fit(X_train, y_train)"
   ]
  },
  {
   "cell_type": "code",
   "execution_count": 23,
   "metadata": {},
   "outputs": [],
   "source": [
    "# Predicting the Test set results\n",
    "y_pred = regressor.predict(X_test)"
   ]
  },
  {
   "cell_type": "code",
   "execution_count": 24,
   "metadata": {},
   "outputs": [],
   "source": [
    "# Saving model to disk\n",
    "pickle.dump(regressor, open('ghg_linear_model.pkl','wb'))"
   ]
  },
  {
   "cell_type": "code",
   "execution_count": 29,
   "metadata": {},
   "outputs": [
    {
     "name": "stdout",
     "output_type": "stream",
     "text": [
      "[5.77820864]\n"
     ]
    }
   ],
   "source": [
    "# Loading model to compare the results\n",
    "model = pickle.load( open('ghg_linear_model.pkl','rb'))\n",
    "print(model.predict([[729]]))"
   ]
  },
  {
   "cell_type": "code",
   "execution_count": null,
   "metadata": {},
   "outputs": [],
   "source": []
  }
 ],
 "metadata": {
  "kernelspec": {
   "display_name": "Python 3",
   "language": "python",
   "name": "python3"
  },
  "language_info": {
   "codemirror_mode": {
    "name": "ipython",
    "version": 3
   },
   "file_extension": ".py",
   "mimetype": "text/x-python",
   "name": "python",
   "nbconvert_exporter": "python",
   "pygments_lexer": "ipython3",
   "version": "3.7.6"
  }
 },
 "nbformat": 4,
 "nbformat_minor": 4
}
